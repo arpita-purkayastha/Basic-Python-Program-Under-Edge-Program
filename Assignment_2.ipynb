{
  "nbformat": 4,
  "nbformat_minor": 0,
  "metadata": {
    "colab": {
      "provenance": [],
      "authorship_tag": "ABX9TyNyg8ZT9xaYwFhoV6n2248P",
      "include_colab_link": true
    },
    "kernelspec": {
      "name": "python3",
      "display_name": "Python 3"
    },
    "language_info": {
      "name": "python"
    }
  },
  "cells": [
    {
      "cell_type": "markdown",
      "metadata": {
        "id": "view-in-github",
        "colab_type": "text"
      },
      "source": [
        "<a href=\"https://colab.research.google.com/github/arpita-purkayastha/Basic-Python-Program-Under-Edge-Program/blob/main/Assignment_2.ipynb\" target=\"_parent\"><img src=\"https://colab.research.google.com/assets/colab-badge.svg\" alt=\"Open In Colab\"/></a>"
      ]
    },
    {
      "cell_type": "code",
      "execution_count": null,
      "metadata": {
        "colab": {
          "base_uri": "https://localhost:8080/"
        },
        "id": "9f04RX3vG5C6",
        "outputId": "ec4eb3f9-b663-40a9-abce-5c83555f3bd2"
      },
      "outputs": [
        {
          "output_type": "stream",
          "name": "stdout",
          "text": [
            "Enter a number: 2\n",
            "Even\n"
          ]
        }
      ],
      "source": [
        "a = int(input('Enter a number: '))\n",
        "if (a%2==0):\n",
        "  print('Even')\n",
        "else:\n",
        "  print('Odd')"
      ]
    },
    {
      "cell_type": "code",
      "source": [
        "a = float(input('Enter the first arm of triangle: '))\n",
        "b = float(input('Enter the second arm of triangle: '))\n",
        "c = float(input('Enter the third arm of triangle: '))\n",
        "s = (a+b+c)/2\n",
        "import math\n",
        "area = math.sqrt(s*(s-a)*(s-b)*(s-c))\n",
        "print('Area of triangle is %0.2f' % area)"
      ],
      "metadata": {
        "colab": {
          "base_uri": "https://localhost:8080/"
        },
        "id": "vZATAuuiS1nj",
        "outputId": "7a36bc2a-8db7-4f77-afef-139c3d17b265"
      },
      "execution_count": null,
      "outputs": [
        {
          "output_type": "stream",
          "name": "stdout",
          "text": [
            "Enter the first arm of triangle: 10.5\n",
            "Enter the second arm of triangle: 16\n",
            "Enter the third arm of triangle: 22.2\n",
            "Area of triangle is 77.81\n"
          ]
        }
      ]
    },
    {
      "cell_type": "code",
      "source": [
        "year=int(input('Enter a year: '))\n",
        "if  (year%4==0 and year%100!=0) or (year%400==0):\n",
        "    print('Leap year')\n",
        "elif (year%4==0 and year%100==0 and year%400!=0):\n",
        "    print('leap year')\n",
        "elif  (year%4!=0):\n",
        "    print(\"Not a leap year\")\n",
        "else:\n",
        "    print('Not a leap year')"
      ],
      "metadata": {
        "colab": {
          "base_uri": "https://localhost:8080/"
        },
        "id": "nq4XeRJ8Vcc2",
        "outputId": "18f7beaf-7224-4dad-d0fd-db2dcbff21e5"
      },
      "execution_count": null,
      "outputs": [
        {
          "output_type": "stream",
          "name": "stdout",
          "text": [
            "Enter a year: 2017\n",
            "Not a leap year\n"
          ]
        }
      ]
    },
    {
      "cell_type": "code",
      "source": [
        "a = int(input())\n",
        "b = int(input())\n",
        "c = int(input())\n",
        "import cmath\n",
        "d = (b**2)-(4*a*c)\n",
        "if (d>0):\n",
        "    print('Solution is real')\n",
        "    x1 = (-b+math.sqrt(d))/(2*a)\n",
        "    x2 = (-b-math.sqrt(d))/(2*a)\n",
        "    print(\"x1=\",x1)\n",
        "    print(\"x2=\",x2)\n",
        "elif(d==0):\n",
        "    print('Solution is real and equal')\n",
        "    x = (-b)/(2*a)\n",
        "    print(\"x=\",x)\n",
        "elif(d<0):\n",
        "   print('Solution is imaginary')\n",
        "   x1 = (-b+cmath.sqrt(d))/(2*a)\n",
        "   x2 = (-b-cmath.sqrt(d))/(2*a)\n",
        "   print(\"x1=\",x1)\n",
        "   print(\"x2=\",x2)\n",
        "else:\n",
        "    print('Invalid input')"
      ],
      "metadata": {
        "colab": {
          "base_uri": "https://localhost:8080/"
        },
        "id": "7C27ZzmsZxRo",
        "outputId": "5b32bd24-95d3-4411-cf49-8db0a34cc8f5"
      },
      "execution_count": null,
      "outputs": [
        {
          "output_type": "stream",
          "name": "stdout",
          "text": [
            "1\n",
            "0\n",
            "1\n",
            "Solution is imaginary\n",
            "x1= 1j\n",
            "x2= -1j\n"
          ]
        }
      ]
    },
    {
      "cell_type": "code",
      "source": [
        "radius = float(input('Enter the radius of circle: '))\n",
        "area_of_inscribed_square = (2)*radius*radius\n",
        "print('Area of inscribed square is %0.2f' % area_of_inscribed_square)"
      ],
      "metadata": {
        "colab": {
          "base_uri": "https://localhost:8080/"
        },
        "id": "7GzsjbWAcuaR",
        "outputId": "55cd4621-6552-4de3-9cbc-aebc28e29a7f"
      },
      "execution_count": null,
      "outputs": [
        {
          "output_type": "stream",
          "name": "stdout",
          "text": [
            "Enter the radius of circle: 4\n",
            "Area of inscribed square is 32.00\n"
          ]
        }
      ]
    },
    {
      "cell_type": "code",
      "source": [
        "mark = int(input('Enter mark: '))\n",
        "if(mark>=80 and mark<=100):\n",
        "  print('Grade A')\n",
        "elif(mark>=70 and mark<=79):\n",
        "  print('Grade B')\n",
        "elif(mark>=60 and mark<=69):\n",
        "  print('Grade C')\n",
        "elif(mark>=50 and mark<=59):\n",
        "  print('Grade D')\n",
        "elif(mark>=40 and mark<=49):\n",
        "  print('Grade E')\n",
        "elif(mark>=0 and mark<=39):\n",
        "  print('Grade F')\n",
        "else:\n",
        "  print('Invalid input')"
      ],
      "metadata": {
        "colab": {
          "base_uri": "https://localhost:8080/"
        },
        "id": "R_zLp9KlfLF5",
        "outputId": "f79cc2e7-8baf-4a2c-812c-ad07e8d16ba1"
      },
      "execution_count": null,
      "outputs": [
        {
          "output_type": "stream",
          "name": "stdout",
          "text": [
            "Enter your mark: 10\n",
            "Grade F\n"
          ]
        }
      ]
    },
    {
      "cell_type": "code",
      "source": [
        "n=int(input('Enter a number: '))\n",
        "divisor_count=0\n",
        "for i in range (2,n):\n",
        "   if n%i==0:\n",
        "     divisor_count=divisor_count+1\n",
        "if divisor_count==0:\n",
        "   print(n,'is prime')\n",
        "else:\n",
        "   print(n,'is not prime')"
      ],
      "metadata": {
        "colab": {
          "base_uri": "https://localhost:8080/"
        },
        "id": "fKiVGdnAg3EE",
        "outputId": "c4257833-096d-4477-926f-c651049293f8"
      },
      "execution_count": null,
      "outputs": [
        {
          "output_type": "stream",
          "name": "stdout",
          "text": [
            "Enter a number: 3\n",
            "3 is prime\n"
          ]
        }
      ]
    },
    {
      "cell_type": "code",
      "source": [
        "Uppervalue = int(input('Enter upper value: '))\n",
        "Lowervalue = int(input('Enter lower value: '))\n",
        "for year in range(Lowervalue,Uppervalue+1):\n",
        "  if(year%4==0 and year%100!=0) or (year%400==0):\n",
        "    print(year)\n",
        "  elif(year%4==0 and year%100==0 and year%400!=0):\n",
        "    print(year)\n"
      ],
      "metadata": {
        "colab": {
          "base_uri": "https://localhost:8080/"
        },
        "id": "Y1D2JOgoofyI",
        "outputId": "7de94799-d976-4ed9-989a-2127046463c7"
      },
      "execution_count": null,
      "outputs": [
        {
          "output_type": "stream",
          "name": "stdout",
          "text": [
            "Enter upper value: 2020\n",
            "Enter lower value: 2000\n",
            "2000\n",
            "2004\n",
            "2008\n",
            "2012\n",
            "2016\n",
            "2020\n"
          ]
        }
      ]
    },
    {
      "cell_type": "code",
      "source": [
        "Uppervalue = int(input())\n",
        "Lowervalue = int(input())\n",
        "divisor_count=0\n",
        "for number in range (Lowervalue,Uppervalue+1):\n",
        "  if number==1:\n",
        "    continue\n",
        "  divisor_count=0\n",
        "  for i in range (2,number):\n",
        "      if number%i==0:\n",
        "         divisor_count=divisor_count+1\n",
        "  if divisor_count==0:\n",
        "    print(number,'is prime')"
      ],
      "metadata": {
        "colab": {
          "base_uri": "https://localhost:8080/"
        },
        "id": "ffADfGzTpyJB",
        "outputId": "0e79d3bf-c23a-4ad9-a1a7-cb37c842929a"
      },
      "execution_count": null,
      "outputs": [
        {
          "output_type": "stream",
          "name": "stdout",
          "text": [
            "50\n",
            "1\n",
            "2 is prime\n",
            "3 is prime\n",
            "5 is prime\n",
            "7 is prime\n",
            "11 is prime\n",
            "13 is prime\n",
            "17 is prime\n",
            "19 is prime\n",
            "23 is prime\n",
            "29 is prime\n",
            "31 is prime\n",
            "37 is prime\n",
            "41 is prime\n",
            "43 is prime\n",
            "47 is prime\n"
          ]
        }
      ]
    },
    {
      "cell_type": "code",
      "source": [
        "N=int(input())\n",
        "sum=0\n",
        "for x in range(1,N+1):\n",
        "    y=int(input())\n",
        "    sum=sum+x\n",
        "avg=sum/N\n",
        "print(\"The average is:\",avg)"
      ],
      "metadata": {
        "colab": {
          "base_uri": "https://localhost:8080/"
        },
        "id": "hFXnjBtUqqP6",
        "outputId": "7f064695-2f19-4212-adf5-d4696226ea38"
      },
      "execution_count": null,
      "outputs": [
        {
          "output_type": "stream",
          "name": "stdout",
          "text": [
            "3\n",
            "1\n",
            "2\n",
            "3\n",
            "The average is: 2.0\n"
          ]
        }
      ]
    },
    {
      "cell_type": "code",
      "source": [
        "N=int(input('Enter the value of N: '))\n",
        "sum=0\n",
        "for x in range(1,N+1,2):\n",
        " sum=sum+x\n",
        "print(\"The sum is:\",sum)"
      ],
      "metadata": {
        "colab": {
          "base_uri": "https://localhost:8080/"
        },
        "id": "4y9AkHacswdJ",
        "outputId": "aababa27-fc56-4ae5-e32c-09302f858f3e"
      },
      "execution_count": null,
      "outputs": [
        {
          "output_type": "stream",
          "name": "stdout",
          "text": [
            "Enter the value of N: 7\n",
            "The sum is: 16\n"
          ]
        }
      ]
    },
    {
      "cell_type": "code",
      "source": [
        "a = int(input('Enter a number: '))\n",
        "b = int(input('Enter a number: '))\n",
        "c = int(input('Enter a number: '))\n",
        "print('The minimum number of these three number is',min(a,b,c))"
      ],
      "metadata": {
        "colab": {
          "base_uri": "https://localhost:8080/"
        },
        "id": "8w1-QjhDzNJs",
        "outputId": "b7625d32-2dc5-42e2-8838-581fac61a4d7"
      },
      "execution_count": null,
      "outputs": [
        {
          "output_type": "stream",
          "name": "stdout",
          "text": [
            "Enter a number: 10\n",
            "Enter a number: 20\n",
            "Enter a number: 30\n",
            "The minimum number of these three number is 10\n"
          ]
        }
      ]
    },
    {
      "cell_type": "code",
      "source": [
        "a = int(input('Enter a number: '))\n",
        "b = int(input('Enter a number: '))\n",
        "c = int(input('Enter a number: '))\n",
        "print('The maximum of these three number is',max(a,b,c))"
      ],
      "metadata": {
        "colab": {
          "base_uri": "https://localhost:8080/"
        },
        "id": "GeCV07Ky2JXC",
        "outputId": "483b2076-f91a-4a93-f3d8-a86e16e52a93"
      },
      "execution_count": null,
      "outputs": [
        {
          "output_type": "stream",
          "name": "stdout",
          "text": [
            "Enter a number: 10\n",
            "Enter a number: 20\n",
            "Enter a number: 30\n",
            "The maximum of these three number is 30\n"
          ]
        }
      ]
    },
    {
      "cell_type": "code",
      "source": [
        "a = int(input('Enter value of a: '))\n",
        "b = int(input('Enter value of b: '))\n",
        "temp = a\n",
        "a = b\n",
        "b = temp\n",
        "print('The value of a after swapping is:',a)\n",
        "print('The value of b after swapping is:',b)"
      ],
      "metadata": {
        "colab": {
          "base_uri": "https://localhost:8080/"
        },
        "id": "Q0pQYgbJ2qOT",
        "outputId": "72690594-2812-4cb3-a1f7-a994dc5e87b6"
      },
      "execution_count": null,
      "outputs": [
        {
          "output_type": "stream",
          "name": "stdout",
          "text": [
            "Enter value of a: 5\n",
            "Enter value of b: 10\n",
            "The value of a after swapping is: 10\n",
            "The value of b after swapping is: 5\n"
          ]
        }
      ]
    },
    {
      "cell_type": "code",
      "source": [
        "A = [[3,5,-1],\n",
        "     [2,3,3],\n",
        "     [9,7,22]]\n",
        "B = [[0,2,1],\n",
        "     [3,0,0],\n",
        "     [1,5,0]]\n",
        "C = [[0,0,0],[0,0,0],[0,0,0]]\n",
        "for r in range(len(A)):\n",
        "    for c in range(len(A[r])):\n",
        "          C[r][c] = A[r][c] + B[r][c]\n",
        "for k in range(len(C)):\n",
        "   print(C[k])\n"
      ],
      "metadata": {
        "colab": {
          "base_uri": "https://localhost:8080/"
        },
        "id": "VUIz34ur4dXm",
        "outputId": "92533cb1-85df-4eb3-da19-939754752ae9"
      },
      "execution_count": null,
      "outputs": [
        {
          "output_type": "stream",
          "name": "stdout",
          "text": [
            "[3, 7, 0]\n",
            "[5, 3, 3]\n",
            "[10, 12, 22]\n"
          ]
        }
      ]
    },
    {
      "cell_type": "code",
      "source": [
        "N = int(input('Enter the number of elements: '))\n",
        "numbers = []\n",
        "sum = 0\n",
        "for i in range(N):\n",
        "    num = float(input('Enter number: '))\n",
        "    numbers.append(num)\n",
        "    sum = sum + num\n",
        "mean = sum / N\n",
        "deviation_sum = 0\n",
        "for x in numbers:\n",
        "    deviation_sum =deviation_sum + abs(x - mean)\n",
        "mean_deviation = deviation_sum / N\n",
        "print('Mean deviation is %0.2f' %mean_deviation)"
      ],
      "metadata": {
        "colab": {
          "base_uri": "https://localhost:8080/"
        },
        "id": "5fiIe0QTAZMo",
        "outputId": "8f0bba9c-2ea1-40c6-89af-9227baf8d7f3"
      },
      "execution_count": null,
      "outputs": [
        {
          "output_type": "stream",
          "name": "stdout",
          "text": [
            "Enter the number of elements: 5\n",
            "Enter number: 10\n",
            "Enter number: 12\n",
            "Enter number: 14\n",
            "Enter number: 8\n",
            "Enter number: 6\n",
            "Mean deviation is 2.40\n"
          ]
        }
      ]
    }
  ]
}